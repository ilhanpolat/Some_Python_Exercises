{
 "cells": [
  {
   "cell_type": "code",
   "execution_count": 23,
   "id": "da7c6e99",
   "metadata": {},
   "outputs": [
    {
     "name": "stdout",
     "output_type": "stream",
     "text": [
      "Enter a word: HAKANLO\n",
      "hakanlo is a comfortable word\n"
     ]
    }
   ],
   "source": [
    "left_hand = {\"q\", \"w\", \"e\", \"r\", \"t\", \"a\", \"s\", \"d\", \"f\", \"g\", \"z\", \"x\", \"c\", \"v\", \"b\"}\n",
    "right_hand = {\"y\", \"u\", \"i\", \"ı\", \"ç\", \"ö\", \"ü\", \"ş\", \"ğ\", \"o\", \"p\", \"h\", \"j\", \"k\", \"l\", \"n\", \"m\"}\n",
    "word = input(\"Enter a word: \").lower()\n",
    "word_set = set(word)\n",
    "comfortable_word = (word_set.intersection(left_hand) != set()) \\\n",
    "                    and (word_set.intersection(right_hand) != set())\n",
    "if comfortable_word:\n",
    "    print (f\"{word} is a comfortable word\")\n",
    "else:\n",
    "    print (f\"{word} is not a comfortable word\")"
   ]
  },
  {
   "cell_type": "code",
   "execution_count": null,
   "id": "649c4d4e",
   "metadata": {},
   "outputs": [],
   "source": []
  },
  {
   "cell_type": "code",
   "execution_count": null,
   "id": "208f9bec",
   "metadata": {},
   "outputs": [],
   "source": []
  }
 ],
 "metadata": {
  "kernelspec": {
   "display_name": "Python 3",
   "language": "python",
   "name": "python3"
  },
  "language_info": {
   "codemirror_mode": {
    "name": "ipython",
    "version": 3
   },
   "file_extension": ".py",
   "mimetype": "text/x-python",
   "name": "python",
   "nbconvert_exporter": "python",
   "pygments_lexer": "ipython3",
   "version": "3.8.8"
  }
 },
 "nbformat": 4,
 "nbformat_minor": 5
}
