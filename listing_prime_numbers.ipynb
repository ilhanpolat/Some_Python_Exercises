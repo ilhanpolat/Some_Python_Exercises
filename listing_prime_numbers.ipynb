{
 "cells": [
  {
   "cell_type": "code",
   "execution_count": 11,
   "id": "508eb6c1",
   "metadata": {},
   "outputs": [
    {
     "name": "stdout",
     "output_type": "stream",
     "text": [
      "Enter the limit number more than 2(two): 100\n",
      "[2, 3, 5, 7, 11, 13, 17, 19, 23, 29, 31, 37, 41, 43, 47, 53, 59, 61, 67, 71, 73, 79, 83, 89, 97]\n"
     ]
    }
   ],
   "source": [
    "# Listing Prime Numbers\n",
    "limit = input(\"Enter the limit number more than 2(two): \")\n",
    "while limit.isdigit() is not True or limit == \"0\" or limit == \"1\" or limit == \"2\":\n",
    "    print(\"It is an invalid entry. Don't use non-numeric,\\\n",
    " float, zero(0), one(1), two(2) or negative values!\")\n",
    "    limit = input(\"Enter the limit number:  \")\n",
    "prime_numbers = [2]\n",
    "for i in range(3, int(limit)+1):\n",
    "    for ii in range(2, i):\n",
    "        if i%ii == 0:\n",
    "            break\n",
    "    else:\n",
    "        prime_numbers.append(i)\n",
    "print(prime_numbers)       \n"
   ]
  },
  {
   "cell_type": "code",
   "execution_count": null,
   "id": "8443f25c",
   "metadata": {},
   "outputs": [],
   "source": []
  }
 ],
 "metadata": {
  "kernelspec": {
   "display_name": "Python 3",
   "language": "python",
   "name": "python3"
  },
  "language_info": {
   "codemirror_mode": {
    "name": "ipython",
    "version": 3
   },
   "file_extension": ".py",
   "mimetype": "text/x-python",
   "name": "python",
   "nbconvert_exporter": "python",
   "pygments_lexer": "ipython3",
   "version": "3.8.8"
  }
 },
 "nbformat": 4,
 "nbformat_minor": 5
}
