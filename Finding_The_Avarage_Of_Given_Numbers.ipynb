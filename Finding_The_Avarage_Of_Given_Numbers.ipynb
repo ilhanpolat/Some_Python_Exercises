{
 "cells": [
  {
   "cell_type": "code",
   "execution_count": 7,
   "id": "e0dfd12a",
   "metadata": {},
   "outputs": [
    {
     "name": "stdout",
     "output_type": "stream",
     "text": [
      "How many numbers will you enter: 6\n",
      "Enter a number: 1\n",
      "Enter a number: 2\n",
      "Enter a number: 3\n",
      "Enter a number: 4\n",
      "Enter a number: 5\n",
      "Enter a number: 6\n",
      "Girdiğiniz 6 sayının ortalaması: 3.5\n"
     ]
    }
   ],
   "source": [
    "total_numbers = input(\"How many numbers will you enter: \")\n",
    "count = 0\n",
    "sum = 0\n",
    "while count < int(total_numbers):\n",
    "    number = int(input(\"Enter a number: \"))\n",
    "    sum += number\n",
    "    count += 1\n",
    "print(f\"Girdiğiniz {total_numbers} sayının ortalaması: {sum/int(total_numbers)}\")"
   ]
  }
 ],
 "metadata": {
  "kernelspec": {
   "display_name": "Python 3 (ipykernel)",
   "language": "python",
   "name": "python3"
  },
  "language_info": {
   "codemirror_mode": {
    "name": "ipython",
    "version": 3
   },
   "file_extension": ".py",
   "mimetype": "text/x-python",
   "name": "python",
   "nbconvert_exporter": "python",
   "pygments_lexer": "ipython3",
   "version": "3.9.7"
  }
 },
 "nbformat": 4,
 "nbformat_minor": 5
}
