{
 "cells": [
  {
   "cell_type": "code",
   "execution_count": 14,
   "id": "f5fe86ed",
   "metadata": {},
   "outputs": [
    {
     "name": "stdout",
     "output_type": "stream",
     "text": [
      "Enter a whole number:  153\n",
      "153 is an Armstrong number\n"
     ]
    }
   ],
   "source": [
    "# Finding Armstrong Numbers\n",
    "number = (input(\"Enter a whole number:  \").strip())\n",
    "while number.isdigit() is not True:\n",
    "    print(\" It is an invalid entry. Don't use non-numeric,\\\n",
    " float or negative values!\")\n",
    "    number = input(\"Enter a whole number:  \")\n",
    "result = 0\n",
    "for i in number:\n",
    "    result += int(i) ** len(number)\n",
    "if result == int(number):\n",
    "    print (f\"{number} is an Armstrong number\")\n",
    "else:\n",
    "    print (f\"{number} is not an Armstrong number\")"
   ]
  }
 ],
 "metadata": {
  "kernelspec": {
   "display_name": "Python 3",
   "language": "python",
   "name": "python3"
  },
  "language_info": {
   "codemirror_mode": {
    "name": "ipython",
    "version": 3
   },
   "file_extension": ".py",
   "mimetype": "text/x-python",
   "name": "python",
   "nbconvert_exporter": "python",
   "pygments_lexer": "ipython3",
   "version": "3.8.8"
  }
 },
 "nbformat": 4,
 "nbformat_minor": 5
}
