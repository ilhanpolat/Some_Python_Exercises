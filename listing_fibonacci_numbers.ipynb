{
 "cells": [
  {
   "cell_type": "code",
   "execution_count": 24,
   "id": "8feae421",
   "metadata": {},
   "outputs": [
    {
     "name": "stdout",
     "output_type": "stream",
     "text": [
      "Enter the limit number: 0\n",
      "It is an invalid entry. Don't use non-numeric, float, zero(0), one(1) or negative values!\n",
      "Enter the limit number:  1\n",
      "It is an invalid entry. Don't use non-numeric, float, zero(0), one(1) or negative values!\n",
      "Enter the limit number:  55\n",
      "[1, 1, 2, 3, 5, 8, 13, 21, 34, 55]\n"
     ]
    }
   ],
   "source": [
    "# Listing the Fibonacci numbers\n",
    "limit = input(\"Enter the limit number: \")\n",
    "while limit.isdigit() is not True or limit == \"0\" or limit == \"1\":\n",
    "    print(\"It is an invalid entry. Don't use non-numeric,\\\n",
    " float, zero(0), one(1) or negative values!\")\n",
    "    limit = input(\"Enter the limit number:  \")\n",
    "fibonacci = []\n",
    "sum_numbers = 0\n",
    "num1 = 0\n",
    "num2 = 1\n",
    "while sum_numbers <= int(limit):\n",
    "        fibonacci.append(num2)\n",
    "        sum_numbers = num1 + num2\n",
    "        num1 = num2\n",
    "        num2 = sum_numbers           \n",
    "print(fibonacci)   "
   ]
  },
  {
   "cell_type": "code",
   "execution_count": null,
   "id": "0335810e",
   "metadata": {},
   "outputs": [],
   "source": []
  },
  {
   "cell_type": "code",
   "execution_count": null,
   "id": "52dd0aa7",
   "metadata": {},
   "outputs": [],
   "source": []
  }
 ],
 "metadata": {
  "kernelspec": {
   "display_name": "Python 3",
   "language": "python",
   "name": "python3"
  },
  "language_info": {
   "codemirror_mode": {
    "name": "ipython",
    "version": 3
   },
   "file_extension": ".py",
   "mimetype": "text/x-python",
   "name": "python",
   "nbconvert_exporter": "python",
   "pygments_lexer": "ipython3",
   "version": "3.8.8"
  }
 },
 "nbformat": 4,
 "nbformat_minor": 5
}
