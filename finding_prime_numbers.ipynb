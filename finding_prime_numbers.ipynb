{
 "cells": [
  {
   "cell_type": "code",
   "execution_count": null,
   "id": "be7bea96",
   "metadata": {},
   "outputs": [],
   "source": [
    "# Finding Prime Numbers\n",
    "number = input(\"Enter a whole number:  \")\n",
    "while number.isdigit() is not True or number == \"0\" or number == \"1\":\n",
    "    print(\"It is an invalid entry. Don't use non-numeric,\\\n",
    " float, zero(0), one(1) or negative values!\")\n",
    "    number = input(\"Enter a whole number:  \")\n",
    "for i in range(2, int(number)):\n",
    "    if int(number) % i == 0:\n",
    "        print(f\"{number} is not prime number\")\n",
    "        break\n",
    "else:\n",
    "    print(f\"{number} is prime number\")"
   ]
  },
  {
   "cell_type": "code",
   "execution_count": null,
   "id": "6f70d33c",
   "metadata": {},
   "outputs": [],
   "source": []
  }
 ],
 "metadata": {
  "kernelspec": {
   "display_name": "Python 3",
   "language": "python",
   "name": "python3"
  },
  "language_info": {
   "codemirror_mode": {
    "name": "ipython",
    "version": 3
   },
   "file_extension": ".py",
   "mimetype": "text/x-python",
   "name": "python",
   "nbconvert_exporter": "python",
   "pygments_lexer": "ipython3",
   "version": "3.8.8"
  }
 },
 "nbformat": 4,
 "nbformat_minor": 5
}
