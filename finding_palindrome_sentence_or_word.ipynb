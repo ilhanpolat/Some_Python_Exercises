{
 "cells": [
  {
   "cell_type": "code",
   "execution_count": null,
   "id": "9d2aa3e7",
   "metadata": {},
   "outputs": [],
   "source": [
    "palindrome_raw = input(\"Enter a sentence: \").lower().strip()\n",
    "palindrome = []\n",
    "for i in palindrome_raw :\n",
    "    if i.isalpha() == True :\n",
    "        palindrome.append(i)\n",
    "if palindrome == palindrome[::-1] :\n",
    "    print(f\"{palindrome_raw} is a palindrome\")\n",
    "else :\n",
    "    print(f\"{palindrome_raw} is not a palindrome\")"
   ]
  }
 ],
 "metadata": {
  "kernelspec": {
   "display_name": "Python 3",
   "language": "python",
   "name": "python3"
  },
  "language_info": {
   "codemirror_mode": {
    "name": "ipython",
    "version": 3
   },
   "file_extension": ".py",
   "mimetype": "text/x-python",
   "name": "python",
   "nbconvert_exporter": "python",
   "pygments_lexer": "ipython3",
   "version": "3.8.8"
  }
 },
 "nbformat": 4,
 "nbformat_minor": 5
}
