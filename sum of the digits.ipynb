{
 "cells": [
  {
   "cell_type": "code",
   "execution_count": 4,
   "id": "778c207d",
   "metadata": {},
   "outputs": [
    {
     "name": "stdout",
     "output_type": "stream",
     "text": [
      "Enter a number:  413213132\n",
      "Sum of the digits of the number you entered: 20\n"
     ]
    }
   ],
   "source": [
    "number = (input(\"Enter a number:  \").strip())\n",
    "number_list = list(number)\n",
    "sum = 0\n",
    "for i in number_list:\n",
    "    sum += int(i)\n",
    "print(f\"Sum of the digits of the number you entered: {sum}\")"
   ]
  },
  {
   "cell_type": "code",
   "execution_count": null,
   "id": "72d3523b",
   "metadata": {},
   "outputs": [],
   "source": []
  }
 ],
 "metadata": {
  "kernelspec": {
   "display_name": "Python 3 (ipykernel)",
   "language": "python",
   "name": "python3"
  },
  "language_info": {
   "codemirror_mode": {
    "name": "ipython",
    "version": 3
   },
   "file_extension": ".py",
   "mimetype": "text/x-python",
   "name": "python",
   "nbconvert_exporter": "python",
   "pygments_lexer": "ipython3",
   "version": "3.9.7"
  }
 },
 "nbformat": 4,
 "nbformat_minor": 5
}
