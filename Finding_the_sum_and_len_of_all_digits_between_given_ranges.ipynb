{
 "cells": [
  {
   "cell_type": "code",
   "execution_count": 1,
   "id": "0eb394e7",
   "metadata": {},
   "outputs": [
    {
     "name": "stdout",
     "output_type": "stream",
     "text": [
      "Enter the starting range: 0\n",
      "Enter the last range: 100\n",
      "Length of the all digits between the range 0,100 : 189\n",
      "Sum of the all digits between the range 0,100 : 900\n"
     ]
    }
   ],
   "source": [
    "minimum = int(input(\"Enter the starting range: \"))\n",
    "maximum = int(input(\"Enter the last range: \"))\n",
    "list1 = range(minimum+1, maximum)\n",
    "str_all = \"\"\n",
    "for i in list1:\n",
    "    str_all = str_all + str(i)\n",
    "list_all = list(str_all)\n",
    "sum_all = 0\n",
    "for i in list_all:\n",
    "    sum_all = sum_all + int(i)\n",
    "print(f\"Length of the all digits between the range {minimum},{maximum} : {len(list_all)}\")\n",
    "print(f\"Sum of the all digits between the range {minimum},{maximum} : {sum_all}\")"
   ]
  },
  {
   "cell_type": "code",
   "execution_count": null,
   "id": "acced262",
   "metadata": {},
   "outputs": [],
   "source": []
  }
 ],
 "metadata": {
  "kernelspec": {
   "display_name": "Python 3 (ipykernel)",
   "language": "python",
   "name": "python3"
  },
  "language_info": {
   "codemirror_mode": {
    "name": "ipython",
    "version": 3
   },
   "file_extension": ".py",
   "mimetype": "text/x-python",
   "name": "python",
   "nbconvert_exporter": "python",
   "pygments_lexer": "ipython3",
   "version": "3.9.7"
  }
 },
 "nbformat": 4,
 "nbformat_minor": 5
}
